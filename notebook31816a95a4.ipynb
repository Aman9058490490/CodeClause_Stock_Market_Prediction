{
 "cells": [
  {
   "cell_type": "code",
   "execution_count": 1,
   "id": "fa32695c",
   "metadata": {
    "execution": {
     "iopub.execute_input": "2024-10-13T17:25:40.221708Z",
     "iopub.status.busy": "2024-10-13T17:25:40.220468Z",
     "iopub.status.idle": "2024-10-13T17:25:40.433251Z",
     "shell.execute_reply": "2024-10-13T17:25:40.431900Z"
    },
    "papermill": {
     "duration": 0.222182,
     "end_time": "2024-10-13T17:25:40.436959",
     "exception": false,
     "start_time": "2024-10-13T17:25:40.214777",
     "status": "completed"
    },
    "tags": []
   },
   "outputs": [],
   "source": [
    "import json\n",
    "\n",
    "with open('/kaggle/input/project/data.json','r') as file:\n",
    "    data=json.load(file)"
   ]
  },
  {
   "cell_type": "code",
   "execution_count": 2,
   "id": "bcc8027e",
   "metadata": {
    "execution": {
     "iopub.execute_input": "2024-10-13T17:25:40.444957Z",
     "iopub.status.busy": "2024-10-13T17:25:40.443799Z",
     "iopub.status.idle": "2024-10-13T17:25:40.449162Z",
     "shell.execute_reply": "2024-10-13T17:25:40.448001Z"
    },
    "papermill": {
     "duration": 0.012342,
     "end_time": "2024-10-13T17:25:40.452179",
     "exception": false,
     "start_time": "2024-10-13T17:25:40.439837",
     "status": "completed"
    },
    "tags": []
   },
   "outputs": [],
   "source": [
    "# data"
   ]
  },
  {
   "cell_type": "markdown",
   "id": "34689377",
   "metadata": {
    "papermill": {
     "duration": 0.00229,
     "end_time": "2024-10-13T17:25:40.457188",
     "exception": false,
     "start_time": "2024-10-13T17:25:40.454898",
     "status": "completed"
    },
    "tags": []
   },
   "source": [
    "# EDA"
   ]
  },
  {
   "cell_type": "code",
   "execution_count": 3,
   "id": "e04f7072",
   "metadata": {
    "execution": {
     "iopub.execute_input": "2024-10-13T17:25:40.464618Z",
     "iopub.status.busy": "2024-10-13T17:25:40.463656Z",
     "iopub.status.idle": "2024-10-13T17:25:40.477099Z",
     "shell.execute_reply": "2024-10-13T17:25:40.475562Z"
    },
    "papermill": {
     "duration": 0.019936,
     "end_time": "2024-10-13T17:25:40.479663",
     "exception": false,
     "start_time": "2024-10-13T17:25:40.459727",
     "status": "completed"
    },
    "tags": []
   },
   "outputs": [],
   "source": [
    "import pandas as pd\n",
    "import matplotlib.pyplot as plt\n",
    "\n",
    "#convert json to DataFrame for analysis\n",
    "df=pd.DataFrame(data)"
   ]
  },
  {
   "cell_type": "code",
   "execution_count": 4,
   "id": "a945c300",
   "metadata": {
    "execution": {
     "iopub.execute_input": "2024-10-13T17:25:40.487015Z",
     "iopub.status.busy": "2024-10-13T17:25:40.486596Z",
     "iopub.status.idle": "2024-10-13T17:25:40.551373Z",
     "shell.execute_reply": "2024-10-13T17:25:40.549748Z"
    },
    "papermill": {
     "duration": 0.072106,
     "end_time": "2024-10-13T17:25:40.554475",
     "exception": false,
     "start_time": "2024-10-13T17:25:40.482369",
     "status": "completed"
    },
    "tags": []
   },
   "outputs": [
    {
     "name": "stdout",
     "output_type": "stream",
     "text": [
      "                                         input_text  turn_id\n",
      "0                            What color was Cotton?        1\n",
      "1                               Where did she live?        2\n",
      "2                               Did she live alone?        3\n",
      "3                            Who did she live with?        4\n",
      "4                      What color were her sisters?        5\n",
      "...                                             ...      ...\n",
      "7978  where does the nickname \"Sin City\" come from?        8\n",
      "7979                          Which state is it in?        9\n",
      "7980                     Is it located in a desert?       10\n",
      "7981                what is the name of the desert?       11\n",
      "7982                            is it a small city?       12\n",
      "\n",
      "[7983 rows x 2 columns]\n",
      "7983\n",
      "                                              span_text  \\\n",
      "0                    a little white kitten named Cotton   \n",
      "1     in a barn near a farm house, there lived a lit...   \n",
      "2                                   Cotton wasn't alone   \n",
      "3                    with her mommy and 5 other sisters   \n",
      "4     her sisters were all orange with beautiful whi...   \n",
      "...                                                 ...   \n",
      "7978  The city's tolerance for numerous forms of adu...   \n",
      "7979  Vegas, is the 28th-most populated city in the ...   \n",
      "7980                   within the greater Mojave Desert   \n",
      "7981                                     Mojave Desert.   \n",
      "7982     the most populated city in the state of Nevada   \n",
      "\n",
      "                                             input_text  turn_id  \n",
      "0                                                 white        1  \n",
      "1                                             in a barn        2  \n",
      "2                                                    no        3  \n",
      "3                          with her mommy and 5 sisters        4  \n",
      "4                                      orange and white        5  \n",
      "...                                                 ...      ...  \n",
      "7978  The city's tolerance for numerous forms of adu...        8  \n",
      "7979                                             Nevada        9  \n",
      "7980                                                Yes       10  \n",
      "7981                                     Mojave Desert.       11  \n",
      "7982                                                 No       12  \n",
      "\n",
      "[7983 rows x 3 columns]\n",
      "7983\n"
     ]
    }
   ],
   "source": [
    "#fatch the Feature and in that we will see the number of Questions and answers are same \n",
    "#7983\n",
    "answers = []\n",
    "questions = []\n",
    "count=0\n",
    "val=0\n",
    "for item in data['data']:\n",
    "    for ans in item['answers']:\n",
    "        answers.append({\n",
    "            \"span_text\":ans[\"span_text\"],\n",
    "            \"input_text\":ans['input_text'],\n",
    "            \"turn_id\":ans[\"turn_id\"]\n",
    "        })\n",
    "        count=count+1\n",
    "    # Acess the all questions of the story\n",
    "    for q in item['questions']:\n",
    "        questions.append({\n",
    "#             \"story\": story,\n",
    "            \"input_text\": q['input_text'],\n",
    "            \"turn_id\": q['turn_id']\n",
    "        })\n",
    "        val=val+1\n",
    "\n",
    "# Convert the data in dataframe so its esay to read or understand\n",
    "df_answer = pd.DataFrame(answers)\n",
    "df_questions = pd.DataFrame(questions)\n",
    "print(df_questions)\n",
    "print(val)\n",
    "print(df_answer)\n",
    "print(count)"
   ]
  },
  {
   "cell_type": "code",
   "execution_count": null,
   "id": "4fcbaefa",
   "metadata": {
    "papermill": {
     "duration": 0.002475,
     "end_time": "2024-10-13T17:25:40.560023",
     "exception": false,
     "start_time": "2024-10-13T17:25:40.557548",
     "status": "completed"
    },
    "tags": []
   },
   "outputs": [],
   "source": []
  }
 ],
 "metadata": {
  "kaggle": {
   "accelerator": "none",
   "dataSources": [
    {
     "datasetId": 5867729,
     "sourceId": 9615249,
     "sourceType": "datasetVersion"
    }
   ],
   "dockerImageVersionId": 30407,
   "isGpuEnabled": false,
   "isInternetEnabled": false,
   "language": "python",
   "sourceType": "notebook"
  },
  "kernelspec": {
   "display_name": "Python 3",
   "language": "python",
   "name": "python3"
  },
  "language_info": {
   "codemirror_mode": {
    "name": "ipython",
    "version": 3
   },
   "file_extension": ".py",
   "mimetype": "text/x-python",
   "name": "python",
   "nbconvert_exporter": "python",
   "pygments_lexer": "ipython3",
   "version": "3.7.12"
  },
  "papermill": {
   "default_parameters": {},
   "duration": 13.394339,
   "end_time": "2024-10-13T17:25:41.286913",
   "environment_variables": {},
   "exception": null,
   "input_path": "__notebook__.ipynb",
   "output_path": "__notebook__.ipynb",
   "parameters": {},
   "start_time": "2024-10-13T17:25:27.892574",
   "version": "2.4.0"
  }
 },
 "nbformat": 4,
 "nbformat_minor": 5
}
